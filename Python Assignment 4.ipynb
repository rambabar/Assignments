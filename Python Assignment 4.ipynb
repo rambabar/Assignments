{
 "cells": [
  {
   "cell_type": "markdown",
   "id": "5c7747da",
   "metadata": {},
   "source": [
    "### 1.1 Write a Python Program(with class concepts) to find the area of the triangle using the below formula.\n",
    "### area = (s*(s-a)*(s-b)*(s-c)) ** 0.5\n",
    "### Function to take the length of the sides of triangle from user should be defined in the parent class and function to calculate the area should be defined in subclass."
   ]
  },
  {
   "cell_type": "code",
   "execution_count": 1,
   "id": "cbc20fc6",
   "metadata": {},
   "outputs": [
    {
     "name": "stdout",
     "output_type": "stream",
     "text": [
      "Enter Dimensions of Triangle\n",
      "Enter length of side 1= 3\n",
      "Enter length of side 2= 4\n",
      "Enter length of side 3= 5\n",
      "Area : 6.0\n"
     ]
    }
   ],
   "source": [
    "class Sides:\n",
    "    def __init__(self,a,b,c):\n",
    "        self.a = float(a)\n",
    "        self.b = float(b)\n",
    "        self.c = float(c)\n",
    "print('Enter Dimensions of Triangle')\n",
    "a= int(input(\"Enter length of side 1= \"))\n",
    "b= int(input(\"Enter length of side 2= \"))\n",
    "c= int(input(\"Enter length of side 3= \"))\n",
    "\n",
    "class triangle(Sides):\n",
    "    def __init__(self,a,b,c):\n",
    "        super().__init__(a,b,c)\n",
    "\n",
    "    def get_area(self):\n",
    "        s = (a + b + c) / 2\n",
    "        return (s*(s-a)*(s-b)*(s-c)) ** 0.5        \n",
    "\n",
    "t = triangle(a,b,c)\n",
    "print(\"Area : {}\".format(t.get_area()))"
   ]
  },
  {
   "cell_type": "markdown",
   "id": "74a8940b",
   "metadata": {},
   "source": [
    "---"
   ]
  },
  {
   "cell_type": "markdown",
   "id": "90cac323",
   "metadata": {},
   "source": [
    "### 1.2 Write a function filter_long_words() that takes a list of words and an integer n and returns the list of words that are longer than n."
   ]
  },
  {
   "cell_type": "code",
   "execution_count": 2,
   "id": "a2f537a9",
   "metadata": {},
   "outputs": [
    {
     "data": {
      "text/plain": [
       "['abcd', 'pqrst']"
      ]
     },
     "execution_count": 2,
     "metadata": {},
     "output_type": "execute_result"
    }
   ],
   "source": [
    "def filter_long_words(word_list,n):\n",
    "    return [word for word in word_list if len(word)>n]\n",
    "\n",
    "filter_long_words(['abcd','pq','xyz','pqrst'],3)"
   ]
  },
  {
   "cell_type": "markdown",
   "id": "43978a01",
   "metadata": {},
   "source": [
    "---"
   ]
  },
  {
   "cell_type": "markdown",
   "id": "9ba9acd3",
   "metadata": {},
   "source": [
    "### 2.1 Write a Python program using function concept that maps list of words into a list of integers representing the lengths of the corresponding words"
   ]
  },
  {
   "cell_type": "code",
   "execution_count": 3,
   "id": "d28966ab",
   "metadata": {
    "scrolled": true
   },
   "outputs": [
    {
     "name": "stdout",
     "output_type": "stream",
     "text": [
      "Enter the List of Words: ineuron Machine Learning\n",
      "List of Lengths of Words:[7, 7, 8]\n"
     ]
    }
   ],
   "source": [
    "words_list = input('Enter the List of Words: ').split() \n",
    "words_len=[] \n",
    "for i in range(len(words_list)):\n",
    "    words_len.append(len(words_list[i]))\n",
    "     \n",
    "print (\"List of Lengths of Words:\"+str(words_len))"
   ]
  },
  {
   "cell_type": "markdown",
   "id": "81314e1c",
   "metadata": {},
   "source": [
    "---"
   ]
  },
  {
   "cell_type": "markdown",
   "id": "f614d7e3",
   "metadata": {},
   "source": [
    "### 2.2 Write a Python function which takes a character (i.e. a string of length 1) and returns True if it is a vowel, False otherwise."
   ]
  },
  {
   "cell_type": "code",
   "execution_count": 4,
   "id": "1622e718",
   "metadata": {},
   "outputs": [
    {
     "name": "stdout",
     "output_type": "stream",
     "text": [
      "Test for Vowel \n",
      "Enter Character of length 1 : E\n"
     ]
    },
    {
     "data": {
      "text/plain": [
       "True"
      ]
     },
     "execution_count": 4,
     "metadata": {},
     "output_type": "execute_result"
    }
   ],
   "source": [
    "char=input('Test for Vowel \\nEnter Character of length 1 : ')\n",
    "    \n",
    "def is_vowel(char):\n",
    "    char = char.lower()\n",
    "    return any(char == c for c in 'aeiou')\n",
    "\n",
    "is_vowel(char)"
   ]
  }
 ],
 "metadata": {
  "kernelspec": {
   "display_name": "Python 3",
   "language": "python",
   "name": "python3"
  },
  "language_info": {
   "codemirror_mode": {
    "name": "ipython",
    "version": 3
   },
   "file_extension": ".py",
   "mimetype": "text/x-python",
   "name": "python",
   "nbconvert_exporter": "python",
   "pygments_lexer": "ipython3",
   "version": "3.7.9"
  }
 },
 "nbformat": 4,
 "nbformat_minor": 5
}
