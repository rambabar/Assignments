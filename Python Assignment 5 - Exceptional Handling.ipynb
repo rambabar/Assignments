{
 "cells": [
  {
   "cell_type": "markdown",
   "id": "2768e16a",
   "metadata": {},
   "source": [
    "### 1. Write a function to compute 5/0 and use try/except to catch the exceptions."
   ]
  },
  {
   "cell_type": "code",
   "execution_count": 1,
   "id": "3c8910ed",
   "metadata": {},
   "outputs": [
    {
     "name": "stdout",
     "output_type": "stream",
     "text": [
      "An interger/number can't be divisible by Zero\n",
      "An execption has been occured as,  division by zero  action has been attempted\n"
     ]
    }
   ],
   "source": [
    "def DivideByZero(x,y):\n",
    "    '''This Function is intended to return an Exception, if an integer has been tried & facing divisible by Zero condition'''\n",
    "    try:\n",
    "        x/y\n",
    "    except ZeroDivisionError as e:\n",
    "        print(\"An interger/number can't be divisible by Zero\")\n",
    "        print(\"An execption has been occured as, \",e,\" action has been attempted\")\n",
    "        \n",
    "# apply values on variable x & y\n",
    "x,y=5,0\n",
    "# Function Execute\n",
    "DivideByZero(x,y)"
   ]
  },
  {
   "cell_type": "markdown",
   "id": "f531274e",
   "metadata": {},
   "source": [
    "---"
   ]
  },
  {
   "cell_type": "markdown",
   "id": "57c1848d",
   "metadata": {},
   "source": [
    "### 2. Implement a Python program to generate all sentences where subject is in [\"Americans\", \"Indians\"] and verb is in [\"Play\", \"watch\"] and the object is in [\"Baseball\",\"cricket\"]."
   ]
  },
  {
   "cell_type": "code",
   "execution_count": 2,
   "id": "f0a3b917",
   "metadata": {},
   "outputs": [
    {
     "name": "stdout",
     "output_type": "stream",
     "text": [
      "Output:\n",
      "Americans play Baseball.\n",
      "Americans play Cricket.\n",
      "Americans watch Baseball.\n",
      "Americans watch Cricket.\n",
      "Indians play Baseball.\n",
      "Indians play Cricket.\n",
      "Indians watch Baseball.\n",
      "Indians watch Cricket.\n"
     ]
    }
   ],
   "source": [
    "subject=['Americans','Indians']\n",
    "verb=['play','watch']\n",
    "objects=['Baseball','Cricket']\n",
    "# List Comprehension\n",
    "Syntax = [(Sub+' '+vrb+' '+Obj+'.') for Sub in subject for vrb in verb for Obj in objects]\n",
    "# for Loop for Iteration\n",
    "print('Output:')\n",
    "for syn in Syntax:\n",
    "    print (syn)"
   ]
  }
 ],
 "metadata": {
  "kernelspec": {
   "display_name": "Python 3",
   "language": "python",
   "name": "python3"
  },
  "language_info": {
   "codemirror_mode": {
    "name": "ipython",
    "version": 3
   },
   "file_extension": ".py",
   "mimetype": "text/x-python",
   "name": "python",
   "nbconvert_exporter": "python",
   "pygments_lexer": "ipython3",
   "version": "3.8.8"
  }
 },
 "nbformat": 4,
 "nbformat_minor": 5
}
